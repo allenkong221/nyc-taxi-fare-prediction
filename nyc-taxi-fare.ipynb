{
 "cells": [
  {
   "cell_type": "markdown",
   "metadata": {
    "papermill": {
     "duration": 0.028704,
     "end_time": "2020-12-02T13:41:25.760017",
     "exception": false,
     "start_time": "2020-12-02T13:41:25.731313",
     "status": "completed"
    },
    "tags": []
   },
   "source": [
    "# NYC Taxi Fare Prediction"
   ]
  },
  {
   "cell_type": "code",
   "execution_count": 1,
   "metadata": {
    "_cell_guid": "79c7e3d0-c299-4dcb-8224-4455121ee9b0",
    "_uuid": "d629ff2d2480ee46fbb7e2d37f6b5fab8052498a",
    "execution": {
     "iopub.execute_input": "2020-12-02T13:41:25.835499Z",
     "iopub.status.busy": "2020-12-02T13:41:25.830136Z",
     "iopub.status.idle": "2020-12-02T13:41:28.309736Z",
     "shell.execute_reply": "2020-12-02T13:41:28.308794Z"
    },
    "papermill": {
     "duration": 2.520727,
     "end_time": "2020-12-02T13:41:28.309889",
     "exception": false,
     "start_time": "2020-12-02T13:41:25.789162",
     "status": "completed"
    },
    "tags": []
   },
   "outputs": [
    {
     "name": "stdout",
     "output_type": "stream",
     "text": [
      "/kaggle/input/new-york-city-taxi-fare-prediction/sample_submission.csv\n",
      "/kaggle/input/new-york-city-taxi-fare-prediction/test.csv\n",
      "/kaggle/input/new-york-city-taxi-fare-prediction/train.csv\n",
      "/kaggle/input/new-york-city-taxi-fare-prediction/GCP-Coupons-Instructions.rtf\n"
     ]
    }
   ],
   "source": [
    "%matplotlib inline\n",
    "import os\n",
    "import numpy as np\n",
    "import pandas as pd\n",
    "import matplotlib.pyplot as plt\n",
    "import seaborn as sns\n",
    "import matplotlib\n",
    "from scipy import stats\n",
    "from scipy.stats import norm, skew\n",
    "from sklearn import preprocessing\n",
    "from sklearn.metrics import r2_score\n",
    "from sklearn.metrics import mean_squared_error\n",
    "from sklearn.model_selection import train_test_split\n",
    "from xgboost import XGBRegressor, plot_importance\n",
    "from sklearn.model_selection import GridSearchCV\n",
    "from sklearn.model_selection import RandomizedSearchCV\n",
    "from sklearn.model_selection import RepeatedStratifiedKFold\n",
    "from sklearn.model_selection import StratifiedKFold\n",
    "from sklearn.model_selection import KFold\n",
    "import lightgbm as lgbm\n",
    "import xgboost as xgb\n",
    "\n",
    "for dirname, _, filenames in os.walk('/kaggle/input'):\n",
    "    for filename in filenames:\n",
    "        print(os.path.join(dirname, filename))"
   ]
  },
  {
   "cell_type": "code",
   "execution_count": 2,
   "metadata": {
    "execution": {
     "iopub.execute_input": "2020-12-02T13:41:28.375790Z",
     "iopub.status.busy": "2020-12-02T13:41:28.374898Z",
     "iopub.status.idle": "2020-12-02T13:41:40.296144Z",
     "shell.execute_reply": "2020-12-02T13:41:40.295092Z"
    },
    "papermill": {
     "duration": 11.957759,
     "end_time": "2020-12-02T13:41:40.296316",
     "exception": false,
     "start_time": "2020-12-02T13:41:28.338557",
     "status": "completed"
    },
    "tags": []
   },
   "outputs": [
    {
     "data": {
      "text/plain": [
       "((4000000, 8), (9914, 7))"
      ]
     },
     "execution_count": 2,
     "metadata": {},
     "output_type": "execute_result"
    }
   ],
   "source": [
    "df = pd.read_csv('/kaggle/input/new-york-city-taxi-fare-prediction/train.csv', nrows = 4000000)\n",
    "test_df = pd.read_csv('/kaggle/input/new-york-city-taxi-fare-prediction/test.csv')\n",
    "df.shape, test_df.shape"
   ]
  },
  {
   "cell_type": "code",
   "execution_count": 3,
   "metadata": {
    "execution": {
     "iopub.execute_input": "2020-12-02T13:41:40.383837Z",
     "iopub.status.busy": "2020-12-02T13:41:40.376987Z",
     "iopub.status.idle": "2020-12-02T13:41:40.407236Z",
     "shell.execute_reply": "2020-12-02T13:41:40.406466Z"
    },
    "papermill": {
     "duration": 0.078849,
     "end_time": "2020-12-02T13:41:40.407375",
     "exception": false,
     "start_time": "2020-12-02T13:41:40.328526",
     "status": "completed"
    },
    "tags": []
   },
   "outputs": [
    {
     "data": {
      "text/html": [
       "<div>\n",
       "<style scoped>\n",
       "    .dataframe tbody tr th:only-of-type {\n",
       "        vertical-align: middle;\n",
       "    }\n",
       "\n",
       "    .dataframe tbody tr th {\n",
       "        vertical-align: top;\n",
       "    }\n",
       "\n",
       "    .dataframe thead th {\n",
       "        text-align: right;\n",
       "    }\n",
       "</style>\n",
       "<table border=\"1\" class=\"dataframe\">\n",
       "  <thead>\n",
       "    <tr style=\"text-align: right;\">\n",
       "      <th></th>\n",
       "      <th>key</th>\n",
       "      <th>fare_amount</th>\n",
       "      <th>pickup_datetime</th>\n",
       "      <th>pickup_longitude</th>\n",
       "      <th>pickup_latitude</th>\n",
       "      <th>dropoff_longitude</th>\n",
       "      <th>dropoff_latitude</th>\n",
       "      <th>passenger_count</th>\n",
       "    </tr>\n",
       "  </thead>\n",
       "  <tbody>\n",
       "    <tr>\n",
       "      <th>0</th>\n",
       "      <td>2009-06-15 17:26:21.0000001</td>\n",
       "      <td>4.5</td>\n",
       "      <td>2009-06-15 17:26:21 UTC</td>\n",
       "      <td>-73.844311</td>\n",
       "      <td>40.721319</td>\n",
       "      <td>-73.841610</td>\n",
       "      <td>40.712278</td>\n",
       "      <td>1</td>\n",
       "    </tr>\n",
       "    <tr>\n",
       "      <th>1</th>\n",
       "      <td>2010-01-05 16:52:16.0000002</td>\n",
       "      <td>16.9</td>\n",
       "      <td>2010-01-05 16:52:16 UTC</td>\n",
       "      <td>-74.016048</td>\n",
       "      <td>40.711303</td>\n",
       "      <td>-73.979268</td>\n",
       "      <td>40.782004</td>\n",
       "      <td>1</td>\n",
       "    </tr>\n",
       "    <tr>\n",
       "      <th>2</th>\n",
       "      <td>2011-08-18 00:35:00.00000049</td>\n",
       "      <td>5.7</td>\n",
       "      <td>2011-08-18 00:35:00 UTC</td>\n",
       "      <td>-73.982738</td>\n",
       "      <td>40.761270</td>\n",
       "      <td>-73.991242</td>\n",
       "      <td>40.750562</td>\n",
       "      <td>2</td>\n",
       "    </tr>\n",
       "    <tr>\n",
       "      <th>3</th>\n",
       "      <td>2012-04-21 04:30:42.0000001</td>\n",
       "      <td>7.7</td>\n",
       "      <td>2012-04-21 04:30:42 UTC</td>\n",
       "      <td>-73.987130</td>\n",
       "      <td>40.733143</td>\n",
       "      <td>-73.991567</td>\n",
       "      <td>40.758092</td>\n",
       "      <td>1</td>\n",
       "    </tr>\n",
       "    <tr>\n",
       "      <th>4</th>\n",
       "      <td>2010-03-09 07:51:00.000000135</td>\n",
       "      <td>5.3</td>\n",
       "      <td>2010-03-09 07:51:00 UTC</td>\n",
       "      <td>-73.968095</td>\n",
       "      <td>40.768008</td>\n",
       "      <td>-73.956655</td>\n",
       "      <td>40.783762</td>\n",
       "      <td>1</td>\n",
       "    </tr>\n",
       "  </tbody>\n",
       "</table>\n",
       "</div>"
      ],
      "text/plain": [
       "                             key  fare_amount          pickup_datetime  \\\n",
       "0    2009-06-15 17:26:21.0000001          4.5  2009-06-15 17:26:21 UTC   \n",
       "1    2010-01-05 16:52:16.0000002         16.9  2010-01-05 16:52:16 UTC   \n",
       "2   2011-08-18 00:35:00.00000049          5.7  2011-08-18 00:35:00 UTC   \n",
       "3    2012-04-21 04:30:42.0000001          7.7  2012-04-21 04:30:42 UTC   \n",
       "4  2010-03-09 07:51:00.000000135          5.3  2010-03-09 07:51:00 UTC   \n",
       "\n",
       "   pickup_longitude  pickup_latitude  dropoff_longitude  dropoff_latitude  \\\n",
       "0        -73.844311        40.721319         -73.841610         40.712278   \n",
       "1        -74.016048        40.711303         -73.979268         40.782004   \n",
       "2        -73.982738        40.761270         -73.991242         40.750562   \n",
       "3        -73.987130        40.733143         -73.991567         40.758092   \n",
       "4        -73.968095        40.768008         -73.956655         40.783762   \n",
       "\n",
       "   passenger_count  \n",
       "0                1  \n",
       "1                1  \n",
       "2                2  \n",
       "3                1  \n",
       "4                1  "
      ]
     },
     "execution_count": 3,
     "metadata": {},
     "output_type": "execute_result"
    }
   ],
   "source": [
    "df.head()"
   ]
  },
  {
   "cell_type": "code",
   "execution_count": 4,
   "metadata": {
    "execution": {
     "iopub.execute_input": "2020-12-02T13:41:40.473795Z",
     "iopub.status.busy": "2020-12-02T13:41:40.472407Z",
     "iopub.status.idle": "2020-12-02T13:41:41.455010Z",
     "shell.execute_reply": "2020-12-02T13:41:41.454008Z"
    },
    "papermill": {
     "duration": 1.018127,
     "end_time": "2020-12-02T13:41:41.455213",
     "exception": false,
     "start_time": "2020-12-02T13:41:40.437086",
     "status": "completed"
    },
    "tags": []
   },
   "outputs": [
    {
     "data": {
      "text/plain": [
       "dropoff_latitude     0.000007\n",
       "dropoff_longitude    0.000007\n",
       "fare_amount          0.000000\n",
       "key                  0.000000\n",
       "passenger_count      0.000000\n",
       "pickup_datetime      0.000000\n",
       "pickup_latitude      0.000000\n",
       "pickup_longitude     0.000000\n",
       "dtype: float64"
      ]
     },
     "execution_count": 4,
     "metadata": {},
     "output_type": "execute_result"
    }
   ],
   "source": [
    "df.isnull().sum().sort_index()/len(df)"
   ]
  },
  {
   "cell_type": "code",
   "execution_count": 5,
   "metadata": {
    "execution": {
     "iopub.execute_input": "2020-12-02T13:41:41.551225Z",
     "iopub.status.busy": "2020-12-02T13:41:41.549788Z",
     "iopub.status.idle": "2020-12-02T13:41:41.905330Z",
     "shell.execute_reply": "2020-12-02T13:41:41.904711Z"
    },
    "papermill": {
     "duration": 0.414971,
     "end_time": "2020-12-02T13:41:41.905467",
     "exception": false,
     "start_time": "2020-12-02T13:41:41.490496",
     "status": "completed"
    },
    "tags": []
   },
   "outputs": [],
   "source": [
    "df.dropna(subset=['dropoff_latitude', 'dropoff_longitude'], inplace = True)"
   ]
  },
  {
   "cell_type": "code",
   "execution_count": 6,
   "metadata": {
    "execution": {
     "iopub.execute_input": "2020-12-02T13:41:42.066166Z",
     "iopub.status.busy": "2020-12-02T13:41:42.051691Z",
     "iopub.status.idle": "2020-12-02T13:41:42.893662Z",
     "shell.execute_reply": "2020-12-02T13:41:42.892841Z"
    },
    "papermill": {
     "duration": 0.957556,
     "end_time": "2020-12-02T13:41:42.893806",
     "exception": false,
     "start_time": "2020-12-02T13:41:41.936250",
     "status": "completed"
    },
    "tags": []
   },
   "outputs": [
    {
     "data": {
      "text/html": [
       "<div>\n",
       "<style scoped>\n",
       "    .dataframe tbody tr th:only-of-type {\n",
       "        vertical-align: middle;\n",
       "    }\n",
       "\n",
       "    .dataframe tbody tr th {\n",
       "        vertical-align: top;\n",
       "    }\n",
       "\n",
       "    .dataframe thead th {\n",
       "        text-align: right;\n",
       "    }\n",
       "</style>\n",
       "<table border=\"1\" class=\"dataframe\">\n",
       "  <thead>\n",
       "    <tr style=\"text-align: right;\">\n",
       "      <th></th>\n",
       "      <th>fare_amount</th>\n",
       "      <th>pickup_longitude</th>\n",
       "      <th>pickup_latitude</th>\n",
       "      <th>dropoff_longitude</th>\n",
       "      <th>dropoff_latitude</th>\n",
       "      <th>passenger_count</th>\n",
       "    </tr>\n",
       "  </thead>\n",
       "  <tbody>\n",
       "    <tr>\n",
       "      <th>count</th>\n",
       "      <td>3.999971e+06</td>\n",
       "      <td>3.999971e+06</td>\n",
       "      <td>3.999971e+06</td>\n",
       "      <td>3.999971e+06</td>\n",
       "      <td>3.999971e+06</td>\n",
       "      <td>3.999971e+06</td>\n",
       "    </tr>\n",
       "    <tr>\n",
       "      <th>mean</th>\n",
       "      <td>1.134389e+01</td>\n",
       "      <td>-7.250845e+01</td>\n",
       "      <td>3.991910e+01</td>\n",
       "      <td>-7.250871e+01</td>\n",
       "      <td>3.991789e+01</td>\n",
       "      <td>1.684346e+00</td>\n",
       "    </tr>\n",
       "    <tr>\n",
       "      <th>std</th>\n",
       "      <td>9.824417e+00</td>\n",
       "      <td>1.312180e+01</td>\n",
       "      <td>8.797877e+00</td>\n",
       "      <td>1.289308e+01</td>\n",
       "      <td>9.716855e+00</td>\n",
       "      <td>1.329068e+00</td>\n",
       "    </tr>\n",
       "    <tr>\n",
       "      <th>min</th>\n",
       "      <td>-6.200000e+01</td>\n",
       "      <td>-3.426609e+03</td>\n",
       "      <td>-3.488080e+03</td>\n",
       "      <td>-3.412653e+03</td>\n",
       "      <td>-3.488080e+03</td>\n",
       "      <td>0.000000e+00</td>\n",
       "    </tr>\n",
       "    <tr>\n",
       "      <th>25%</th>\n",
       "      <td>6.000000e+00</td>\n",
       "      <td>-7.399207e+01</td>\n",
       "      <td>4.073491e+01</td>\n",
       "      <td>-7.399139e+01</td>\n",
       "      <td>4.073403e+01</td>\n",
       "      <td>1.000000e+00</td>\n",
       "    </tr>\n",
       "    <tr>\n",
       "      <th>50%</th>\n",
       "      <td>8.500000e+00</td>\n",
       "      <td>-7.398181e+01</td>\n",
       "      <td>4.075263e+01</td>\n",
       "      <td>-7.398016e+01</td>\n",
       "      <td>4.075315e+01</td>\n",
       "      <td>1.000000e+00</td>\n",
       "    </tr>\n",
       "    <tr>\n",
       "      <th>75%</th>\n",
       "      <td>1.250000e+01</td>\n",
       "      <td>-7.396710e+01</td>\n",
       "      <td>4.076711e+01</td>\n",
       "      <td>-7.396366e+01</td>\n",
       "      <td>4.076812e+01</td>\n",
       "      <td>2.000000e+00</td>\n",
       "    </tr>\n",
       "    <tr>\n",
       "      <th>max</th>\n",
       "      <td>1.273310e+03</td>\n",
       "      <td>3.439426e+03</td>\n",
       "      <td>2.912465e+03</td>\n",
       "      <td>3.457622e+03</td>\n",
       "      <td>3.345917e+03</td>\n",
       "      <td>2.080000e+02</td>\n",
       "    </tr>\n",
       "  </tbody>\n",
       "</table>\n",
       "</div>"
      ],
      "text/plain": [
       "        fare_amount  pickup_longitude  pickup_latitude  dropoff_longitude  \\\n",
       "count  3.999971e+06      3.999971e+06     3.999971e+06       3.999971e+06   \n",
       "mean   1.134389e+01     -7.250845e+01     3.991910e+01      -7.250871e+01   \n",
       "std    9.824417e+00      1.312180e+01     8.797877e+00       1.289308e+01   \n",
       "min   -6.200000e+01     -3.426609e+03    -3.488080e+03      -3.412653e+03   \n",
       "25%    6.000000e+00     -7.399207e+01     4.073491e+01      -7.399139e+01   \n",
       "50%    8.500000e+00     -7.398181e+01     4.075263e+01      -7.398016e+01   \n",
       "75%    1.250000e+01     -7.396710e+01     4.076711e+01      -7.396366e+01   \n",
       "max    1.273310e+03      3.439426e+03     2.912465e+03       3.457622e+03   \n",
       "\n",
       "       dropoff_latitude  passenger_count  \n",
       "count      3.999971e+06     3.999971e+06  \n",
       "mean       3.991789e+01     1.684346e+00  \n",
       "std        9.716855e+00     1.329068e+00  \n",
       "min       -3.488080e+03     0.000000e+00  \n",
       "25%        4.073403e+01     1.000000e+00  \n",
       "50%        4.075315e+01     1.000000e+00  \n",
       "75%        4.076812e+01     2.000000e+00  \n",
       "max        3.345917e+03     2.080000e+02  "
      ]
     },
     "execution_count": 6,
     "metadata": {},
     "output_type": "execute_result"
    }
   ],
   "source": [
    "df.describe()"
   ]
  },
  {
   "cell_type": "code",
   "execution_count": 7,
   "metadata": {
    "execution": {
     "iopub.execute_input": "2020-12-02T13:41:42.964762Z",
     "iopub.status.busy": "2020-12-02T13:41:42.963166Z",
     "iopub.status.idle": "2020-12-02T13:41:44.434212Z",
     "shell.execute_reply": "2020-12-02T13:41:44.434862Z"
    },
    "papermill": {
     "duration": 1.510163,
     "end_time": "2020-12-02T13:41:44.435036",
     "exception": false,
     "start_time": "2020-12-02T13:41:42.924873",
     "status": "completed"
    },
    "tags": []
   },
   "outputs": [],
   "source": [
    "df.drop(df[df['fare_amount'] < 2.5].index, axis=0, inplace = True)\n",
    "df.drop(df[df['fare_amount'] > 500].index, axis=0, inplace = True)"
   ]
  },
  {
   "cell_type": "code",
   "execution_count": 8,
   "metadata": {
    "execution": {
     "iopub.execute_input": "2020-12-02T13:41:44.509043Z",
     "iopub.status.busy": "2020-12-02T13:41:44.508228Z",
     "iopub.status.idle": "2020-12-02T13:41:44.537230Z",
     "shell.execute_reply": "2020-12-02T13:41:44.536434Z"
    },
    "papermill": {
     "duration": 0.06972,
     "end_time": "2020-12-02T13:41:44.537356",
     "exception": false,
     "start_time": "2020-12-02T13:41:44.467636",
     "status": "completed"
    },
    "tags": []
   },
   "outputs": [
    {
     "data": {
      "text/html": [
       "<div>\n",
       "<style scoped>\n",
       "    .dataframe tbody tr th:only-of-type {\n",
       "        vertical-align: middle;\n",
       "    }\n",
       "\n",
       "    .dataframe tbody tr th {\n",
       "        vertical-align: top;\n",
       "    }\n",
       "\n",
       "    .dataframe thead th {\n",
       "        text-align: right;\n",
       "    }\n",
       "</style>\n",
       "<table border=\"1\" class=\"dataframe\">\n",
       "  <thead>\n",
       "    <tr style=\"text-align: right;\">\n",
       "      <th></th>\n",
       "      <th>pickup_longitude</th>\n",
       "      <th>pickup_latitude</th>\n",
       "      <th>dropoff_longitude</th>\n",
       "      <th>dropoff_latitude</th>\n",
       "      <th>passenger_count</th>\n",
       "    </tr>\n",
       "  </thead>\n",
       "  <tbody>\n",
       "    <tr>\n",
       "      <th>count</th>\n",
       "      <td>9914.000000</td>\n",
       "      <td>9914.000000</td>\n",
       "      <td>9914.000000</td>\n",
       "      <td>9914.000000</td>\n",
       "      <td>9914.000000</td>\n",
       "    </tr>\n",
       "    <tr>\n",
       "      <th>mean</th>\n",
       "      <td>-73.974722</td>\n",
       "      <td>40.751041</td>\n",
       "      <td>-73.973657</td>\n",
       "      <td>40.751743</td>\n",
       "      <td>1.671273</td>\n",
       "    </tr>\n",
       "    <tr>\n",
       "      <th>std</th>\n",
       "      <td>0.042774</td>\n",
       "      <td>0.033541</td>\n",
       "      <td>0.039072</td>\n",
       "      <td>0.035435</td>\n",
       "      <td>1.278747</td>\n",
       "    </tr>\n",
       "    <tr>\n",
       "      <th>min</th>\n",
       "      <td>-74.252193</td>\n",
       "      <td>40.573143</td>\n",
       "      <td>-74.263242</td>\n",
       "      <td>40.568973</td>\n",
       "      <td>1.000000</td>\n",
       "    </tr>\n",
       "    <tr>\n",
       "      <th>25%</th>\n",
       "      <td>-73.992501</td>\n",
       "      <td>40.736125</td>\n",
       "      <td>-73.991247</td>\n",
       "      <td>40.735254</td>\n",
       "      <td>1.000000</td>\n",
       "    </tr>\n",
       "    <tr>\n",
       "      <th>50%</th>\n",
       "      <td>-73.982326</td>\n",
       "      <td>40.753051</td>\n",
       "      <td>-73.980015</td>\n",
       "      <td>40.754065</td>\n",
       "      <td>1.000000</td>\n",
       "    </tr>\n",
       "    <tr>\n",
       "      <th>75%</th>\n",
       "      <td>-73.968013</td>\n",
       "      <td>40.767113</td>\n",
       "      <td>-73.964059</td>\n",
       "      <td>40.768757</td>\n",
       "      <td>2.000000</td>\n",
       "    </tr>\n",
       "    <tr>\n",
       "      <th>max</th>\n",
       "      <td>-72.986532</td>\n",
       "      <td>41.709555</td>\n",
       "      <td>-72.990963</td>\n",
       "      <td>41.696683</td>\n",
       "      <td>6.000000</td>\n",
       "    </tr>\n",
       "  </tbody>\n",
       "</table>\n",
       "</div>"
      ],
      "text/plain": [
       "       pickup_longitude  pickup_latitude  dropoff_longitude  dropoff_latitude  \\\n",
       "count       9914.000000      9914.000000        9914.000000       9914.000000   \n",
       "mean         -73.974722        40.751041         -73.973657         40.751743   \n",
       "std            0.042774         0.033541           0.039072          0.035435   \n",
       "min          -74.252193        40.573143         -74.263242         40.568973   \n",
       "25%          -73.992501        40.736125         -73.991247         40.735254   \n",
       "50%          -73.982326        40.753051         -73.980015         40.754065   \n",
       "75%          -73.968013        40.767113         -73.964059         40.768757   \n",
       "max          -72.986532        41.709555         -72.990963         41.696683   \n",
       "\n",
       "       passenger_count  \n",
       "count      9914.000000  \n",
       "mean          1.671273  \n",
       "std           1.278747  \n",
       "min           1.000000  \n",
       "25%           1.000000  \n",
       "50%           1.000000  \n",
       "75%           2.000000  \n",
       "max           6.000000  "
      ]
     },
     "execution_count": 8,
     "metadata": {},
     "output_type": "execute_result"
    }
   ],
   "source": [
    "test_df.describe()"
   ]
  },
  {
   "cell_type": "code",
   "execution_count": 9,
   "metadata": {
    "execution": {
     "iopub.execute_input": "2020-12-02T13:41:44.607023Z",
     "iopub.status.busy": "2020-12-02T13:41:44.606222Z",
     "iopub.status.idle": "2020-12-02T13:41:44.678230Z",
     "shell.execute_reply": "2020-12-02T13:41:44.677491Z"
    },
    "papermill": {
     "duration": 0.108973,
     "end_time": "2020-12-02T13:41:44.678351",
     "exception": false,
     "start_time": "2020-12-02T13:41:44.569378",
     "status": "completed"
    },
    "tags": []
   },
   "outputs": [
    {
     "data": {
      "text/html": [
       "<div>\n",
       "<style scoped>\n",
       "    .dataframe tbody tr th:only-of-type {\n",
       "        vertical-align: middle;\n",
       "    }\n",
       "\n",
       "    .dataframe tbody tr th {\n",
       "        vertical-align: top;\n",
       "    }\n",
       "\n",
       "    .dataframe thead th {\n",
       "        text-align: right;\n",
       "    }\n",
       "</style>\n",
       "<table border=\"1\" class=\"dataframe\">\n",
       "  <thead>\n",
       "    <tr style=\"text-align: right;\">\n",
       "      <th></th>\n",
       "      <th>key</th>\n",
       "      <th>fare_amount</th>\n",
       "      <th>pickup_datetime</th>\n",
       "      <th>pickup_longitude</th>\n",
       "      <th>pickup_latitude</th>\n",
       "      <th>dropoff_longitude</th>\n",
       "      <th>dropoff_latitude</th>\n",
       "      <th>passenger_count</th>\n",
       "    </tr>\n",
       "  </thead>\n",
       "  <tbody>\n",
       "    <tr>\n",
       "      <th>38</th>\n",
       "      <td>2013-11-24 11:42:00.000000113</td>\n",
       "      <td>9.00</td>\n",
       "      <td>2013-11-24 11:42:00 UTC</td>\n",
       "      <td>-73.957740</td>\n",
       "      <td>40.773617</td>\n",
       "      <td>-73.977087</td>\n",
       "      <td>40.758465</td>\n",
       "      <td>6</td>\n",
       "    </tr>\n",
       "    <tr>\n",
       "      <th>2669691</th>\n",
       "      <td>2009-05-30 10:41:00.00000024</td>\n",
       "      <td>49.15</td>\n",
       "      <td>2009-05-30 10:41:00 UTC</td>\n",
       "      <td>-73.780313</td>\n",
       "      <td>40.645430</td>\n",
       "      <td>-73.980503</td>\n",
       "      <td>40.760318</td>\n",
       "      <td>6</td>\n",
       "    </tr>\n",
       "    <tr>\n",
       "      <th>2669688</th>\n",
       "      <td>2013-06-15 05:51:00.00000012</td>\n",
       "      <td>4.50</td>\n",
       "      <td>2013-06-15 05:51:00 UTC</td>\n",
       "      <td>-74.002810</td>\n",
       "      <td>40.733927</td>\n",
       "      <td>-74.006502</td>\n",
       "      <td>40.737720</td>\n",
       "      <td>6</td>\n",
       "    </tr>\n",
       "    <tr>\n",
       "      <th>2669559</th>\n",
       "      <td>2014-12-21 13:54:00.000000191</td>\n",
       "      <td>30.00</td>\n",
       "      <td>2014-12-21 13:54:00 UTC</td>\n",
       "      <td>-73.862770</td>\n",
       "      <td>40.768960</td>\n",
       "      <td>-73.762060</td>\n",
       "      <td>40.764840</td>\n",
       "      <td>6</td>\n",
       "    </tr>\n",
       "    <tr>\n",
       "      <th>2669486</th>\n",
       "      <td>2014-08-01 21:33:00.000000142</td>\n",
       "      <td>29.00</td>\n",
       "      <td>2014-08-01 21:33:00 UTC</td>\n",
       "      <td>-73.960020</td>\n",
       "      <td>40.773450</td>\n",
       "      <td>-73.845380</td>\n",
       "      <td>40.721610</td>\n",
       "      <td>6</td>\n",
       "    </tr>\n",
       "    <tr>\n",
       "      <th>...</th>\n",
       "      <td>...</td>\n",
       "      <td>...</td>\n",
       "      <td>...</td>\n",
       "      <td>...</td>\n",
       "      <td>...</td>\n",
       "      <td>...</td>\n",
       "      <td>...</td>\n",
       "      <td>...</td>\n",
       "    </tr>\n",
       "    <tr>\n",
       "      <th>929022</th>\n",
       "      <td>2009-07-30 11:54:00.000000193</td>\n",
       "      <td>3.30</td>\n",
       "      <td>2009-07-30 11:54:00 UTC</td>\n",
       "      <td>0.000000</td>\n",
       "      <td>0.000000</td>\n",
       "      <td>0.000000</td>\n",
       "      <td>0.000000</td>\n",
       "      <td>208</td>\n",
       "    </tr>\n",
       "    <tr>\n",
       "      <th>2910347</th>\n",
       "      <td>2010-12-16 06:44:00.00000039</td>\n",
       "      <td>4.50</td>\n",
       "      <td>2010-12-16 06:44:00 UTC</td>\n",
       "      <td>0.000000</td>\n",
       "      <td>0.000000</td>\n",
       "      <td>0.000000</td>\n",
       "      <td>0.000000</td>\n",
       "      <td>208</td>\n",
       "    </tr>\n",
       "    <tr>\n",
       "      <th>3107489</th>\n",
       "      <td>2009-05-12 14:50:00.000000175</td>\n",
       "      <td>2.70</td>\n",
       "      <td>2009-05-12 14:50:00 UTC</td>\n",
       "      <td>-73.937818</td>\n",
       "      <td>40.758260</td>\n",
       "      <td>-73.937827</td>\n",
       "      <td>40.758250</td>\n",
       "      <td>208</td>\n",
       "    </tr>\n",
       "    <tr>\n",
       "      <th>2154045</th>\n",
       "      <td>2010-12-16 11:21:00.000000209</td>\n",
       "      <td>3.30</td>\n",
       "      <td>2010-12-16 11:21:00 UTC</td>\n",
       "      <td>0.000000</td>\n",
       "      <td>0.000000</td>\n",
       "      <td>0.000000</td>\n",
       "      <td>0.000000</td>\n",
       "      <td>208</td>\n",
       "    </tr>\n",
       "    <tr>\n",
       "      <th>2198549</th>\n",
       "      <td>2010-12-15 14:20:00.00000010</td>\n",
       "      <td>3.30</td>\n",
       "      <td>2010-12-15 14:20:00 UTC</td>\n",
       "      <td>0.000000</td>\n",
       "      <td>0.000000</td>\n",
       "      <td>0.000000</td>\n",
       "      <td>0.000000</td>\n",
       "      <td>208</td>\n",
       "    </tr>\n",
       "  </tbody>\n",
       "</table>\n",
       "<p>84286 rows × 8 columns</p>\n",
       "</div>"
      ],
      "text/plain": [
       "                                   key  fare_amount          pickup_datetime  \\\n",
       "38       2013-11-24 11:42:00.000000113         9.00  2013-11-24 11:42:00 UTC   \n",
       "2669691   2009-05-30 10:41:00.00000024        49.15  2009-05-30 10:41:00 UTC   \n",
       "2669688   2013-06-15 05:51:00.00000012         4.50  2013-06-15 05:51:00 UTC   \n",
       "2669559  2014-12-21 13:54:00.000000191        30.00  2014-12-21 13:54:00 UTC   \n",
       "2669486  2014-08-01 21:33:00.000000142        29.00  2014-08-01 21:33:00 UTC   \n",
       "...                                ...          ...                      ...   \n",
       "929022   2009-07-30 11:54:00.000000193         3.30  2009-07-30 11:54:00 UTC   \n",
       "2910347   2010-12-16 06:44:00.00000039         4.50  2010-12-16 06:44:00 UTC   \n",
       "3107489  2009-05-12 14:50:00.000000175         2.70  2009-05-12 14:50:00 UTC   \n",
       "2154045  2010-12-16 11:21:00.000000209         3.30  2010-12-16 11:21:00 UTC   \n",
       "2198549   2010-12-15 14:20:00.00000010         3.30  2010-12-15 14:20:00 UTC   \n",
       "\n",
       "         pickup_longitude  pickup_latitude  dropoff_longitude  \\\n",
       "38             -73.957740        40.773617         -73.977087   \n",
       "2669691        -73.780313        40.645430         -73.980503   \n",
       "2669688        -74.002810        40.733927         -74.006502   \n",
       "2669559        -73.862770        40.768960         -73.762060   \n",
       "2669486        -73.960020        40.773450         -73.845380   \n",
       "...                   ...              ...                ...   \n",
       "929022           0.000000         0.000000           0.000000   \n",
       "2910347          0.000000         0.000000           0.000000   \n",
       "3107489        -73.937818        40.758260         -73.937827   \n",
       "2154045          0.000000         0.000000           0.000000   \n",
       "2198549          0.000000         0.000000           0.000000   \n",
       "\n",
       "         dropoff_latitude  passenger_count  \n",
       "38              40.758465                6  \n",
       "2669691         40.760318                6  \n",
       "2669688         40.737720                6  \n",
       "2669559         40.764840                6  \n",
       "2669486         40.721610                6  \n",
       "...                   ...              ...  \n",
       "929022           0.000000              208  \n",
       "2910347          0.000000              208  \n",
       "3107489         40.758250              208  \n",
       "2154045          0.000000              208  \n",
       "2198549          0.000000              208  \n",
       "\n",
       "[84286 rows x 8 columns]"
      ]
     },
     "execution_count": 9,
     "metadata": {},
     "output_type": "execute_result"
    }
   ],
   "source": [
    "df[df['passenger_count'] > 5].sort_values('passenger_count')"
   ]
  },
  {
   "cell_type": "code",
   "execution_count": 10,
   "metadata": {
    "execution": {
     "iopub.execute_input": "2020-12-02T13:41:44.756897Z",
     "iopub.status.busy": "2020-12-02T13:41:44.755481Z",
     "iopub.status.idle": "2020-12-02T13:41:48.295455Z",
     "shell.execute_reply": "2020-12-02T13:41:48.294820Z"
    },
    "papermill": {
     "duration": 3.584062,
     "end_time": "2020-12-02T13:41:48.295627",
     "exception": false,
     "start_time": "2020-12-02T13:41:44.711565",
     "status": "completed"
    },
    "tags": []
   },
   "outputs": [],
   "source": [
    "df.drop(df[df['pickup_longitude'] == 0].index, axis=0, inplace = True)\n",
    "df.drop(df[df['pickup_latitude'] == 0].index, axis=0, inplace = True)\n",
    "df.drop(df[df['dropoff_longitude'] == 0].index, axis=0, inplace = True)\n",
    "df.drop(df[df['dropoff_latitude'] == 0].index, axis=0, inplace = True)\n",
    "df.drop(df[df['passenger_count'] == 208].index, axis=0, inplace = True)"
   ]
  },
  {
   "cell_type": "code",
   "execution_count": 11,
   "metadata": {
    "execution": {
     "iopub.execute_input": "2020-12-02T13:41:49.934810Z",
     "iopub.status.busy": "2020-12-02T13:41:49.933982Z",
     "iopub.status.idle": "2020-12-02T13:53:36.985460Z",
     "shell.execute_reply": "2020-12-02T13:53:36.986131Z"
    },
    "papermill": {
     "duration": 708.657876,
     "end_time": "2020-12-02T13:53:36.986337",
     "exception": false,
     "start_time": "2020-12-02T13:41:48.328461",
     "status": "completed"
    },
    "tags": []
   },
   "outputs": [],
   "source": [
    "df['key'] = pd.to_datetime(df['key'])\n",
    "key = test_df.key\n",
    "test_df['key'] = pd.to_datetime(test_df['key'])\n",
    "df['pickup_datetime']  = pd.to_datetime(df['pickup_datetime'])\n",
    "test_df['pickup_datetime']  = pd.to_datetime(test_df['pickup_datetime'])"
   ]
  },
  {
   "cell_type": "code",
   "execution_count": 12,
   "metadata": {
    "execution": {
     "iopub.execute_input": "2020-12-02T13:53:37.068885Z",
     "iopub.status.busy": "2020-12-02T13:53:37.067823Z",
     "iopub.status.idle": "2020-12-02T13:53:39.893842Z",
     "shell.execute_reply": "2020-12-02T13:53:39.893189Z"
    },
    "papermill": {
     "duration": 2.872928,
     "end_time": "2020-12-02T13:53:39.893984",
     "exception": false,
     "start_time": "2020-12-02T13:53:37.021056",
     "status": "completed"
    },
    "tags": []
   },
   "outputs": [],
   "source": [
    "df['Year'] = df['pickup_datetime'].dt.year\n",
    "df['Month'] = df['pickup_datetime'].dt.month\n",
    "df['Date'] = df['pickup_datetime'].dt.day\n",
    "df['Day of Week'] = df['pickup_datetime'].dt.dayofweek\n",
    "df['Hour'] = df['pickup_datetime'].dt.hour\n",
    "df.drop('pickup_datetime', axis = 1, inplace = True)\n",
    "df.drop('key', axis = 1, inplace = True)\n",
    "\n",
    "test_df['Year'] = test_df['pickup_datetime'].dt.year\n",
    "test_df['Month'] = test_df['pickup_datetime'].dt.month\n",
    "test_df['Date'] = test_df['pickup_datetime'].dt.day\n",
    "test_df['Day of Week'] = test_df['pickup_datetime'].dt.dayofweek\n",
    "test_df['Hour'] = test_df['pickup_datetime'].dt.hour\n",
    "test_df.drop('pickup_datetime', axis = 1, inplace = True)\n",
    "test_df.drop('key', axis = 1, inplace = True)"
   ]
  },
  {
   "cell_type": "code",
   "execution_count": 13,
   "metadata": {
    "execution": {
     "iopub.execute_input": "2020-12-02T13:53:39.970823Z",
     "iopub.status.busy": "2020-12-02T13:53:39.970005Z",
     "iopub.status.idle": "2020-12-02T13:53:41.469241Z",
     "shell.execute_reply": "2020-12-02T13:53:41.468328Z"
    },
    "papermill": {
     "duration": 1.541476,
     "end_time": "2020-12-02T13:53:41.469382",
     "exception": false,
     "start_time": "2020-12-02T13:53:39.927906",
     "status": "completed"
    },
    "tags": []
   },
   "outputs": [],
   "source": [
    "df.dropna(inplace=True)\n",
    "\n",
    "df.drop(df.index[(df.pickup_longitude < -75) | \n",
    "           (df.pickup_longitude > -72) | \n",
    "           (df.pickup_latitude < 40) | \n",
    "           (df.pickup_latitude > 42)],inplace=True)\n",
    "df.drop(df.index[(df.dropoff_longitude < -75) | \n",
    "           (df.dropoff_longitude > -72) | \n",
    "           (df.dropoff_latitude < 40) | \n",
    "           (df.dropoff_latitude > 42)],inplace=True)"
   ]
  },
  {
   "cell_type": "code",
   "execution_count": 14,
   "metadata": {
    "execution": {
     "iopub.execute_input": "2020-12-02T13:53:41.661127Z",
     "iopub.status.busy": "2020-12-02T13:53:41.660326Z",
     "iopub.status.idle": "2020-12-02T13:53:43.139144Z",
     "shell.execute_reply": "2020-12-02T13:53:43.138389Z"
    },
    "papermill": {
     "duration": 1.636099,
     "end_time": "2020-12-02T13:53:43.139269",
     "exception": false,
     "start_time": "2020-12-02T13:53:41.503170",
     "status": "completed"
    },
    "tags": []
   },
   "outputs": [
    {
     "data": {
      "text/html": [
       "<div>\n",
       "<style scoped>\n",
       "    .dataframe tbody tr th:only-of-type {\n",
       "        vertical-align: middle;\n",
       "    }\n",
       "\n",
       "    .dataframe tbody tr th {\n",
       "        vertical-align: top;\n",
       "    }\n",
       "\n",
       "    .dataframe thead th {\n",
       "        text-align: right;\n",
       "    }\n",
       "</style>\n",
       "<table border=\"1\" class=\"dataframe\">\n",
       "  <thead>\n",
       "    <tr style=\"text-align: right;\">\n",
       "      <th></th>\n",
       "      <th>fare_amount</th>\n",
       "      <th>pickup_longitude</th>\n",
       "      <th>pickup_latitude</th>\n",
       "      <th>dropoff_longitude</th>\n",
       "      <th>dropoff_latitude</th>\n",
       "      <th>passenger_count</th>\n",
       "      <th>Year</th>\n",
       "      <th>Month</th>\n",
       "      <th>Date</th>\n",
       "      <th>Day of Week</th>\n",
       "      <th>Hour</th>\n",
       "    </tr>\n",
       "  </thead>\n",
       "  <tbody>\n",
       "    <tr>\n",
       "      <th>count</th>\n",
       "      <td>3.915543e+06</td>\n",
       "      <td>3.915543e+06</td>\n",
       "      <td>3.915543e+06</td>\n",
       "      <td>3.915543e+06</td>\n",
       "      <td>3.915543e+06</td>\n",
       "      <td>3.915543e+06</td>\n",
       "      <td>3.915543e+06</td>\n",
       "      <td>3.915543e+06</td>\n",
       "      <td>3.915543e+06</td>\n",
       "      <td>3.915543e+06</td>\n",
       "      <td>3.915543e+06</td>\n",
       "    </tr>\n",
       "    <tr>\n",
       "      <th>mean</th>\n",
       "      <td>1.132662e+01</td>\n",
       "      <td>-7.397517e+01</td>\n",
       "      <td>4.075104e+01</td>\n",
       "      <td>-7.397431e+01</td>\n",
       "      <td>4.075141e+01</td>\n",
       "      <td>1.684201e+00</td>\n",
       "      <td>2.011736e+03</td>\n",
       "      <td>6.268611e+00</td>\n",
       "      <td>1.571538e+01</td>\n",
       "      <td>3.041275e+00</td>\n",
       "      <td>1.351376e+01</td>\n",
       "    </tr>\n",
       "    <tr>\n",
       "      <th>std</th>\n",
       "      <td>9.709136e+00</td>\n",
       "      <td>3.917861e-02</td>\n",
       "      <td>3.007927e-02</td>\n",
       "      <td>3.831200e-02</td>\n",
       "      <td>3.322418e-02</td>\n",
       "      <td>1.308739e+00</td>\n",
       "      <td>1.862858e+00</td>\n",
       "      <td>3.436337e+00</td>\n",
       "      <td>8.685053e+00</td>\n",
       "      <td>1.949656e+00</td>\n",
       "      <td>6.514405e+00</td>\n",
       "    </tr>\n",
       "    <tr>\n",
       "      <th>min</th>\n",
       "      <td>2.500000e+00</td>\n",
       "      <td>-7.498856e+01</td>\n",
       "      <td>4.005272e+01</td>\n",
       "      <td>-7.499828e+01</td>\n",
       "      <td>4.000565e+01</td>\n",
       "      <td>0.000000e+00</td>\n",
       "      <td>2.009000e+03</td>\n",
       "      <td>1.000000e+00</td>\n",
       "      <td>1.000000e+00</td>\n",
       "      <td>0.000000e+00</td>\n",
       "      <td>0.000000e+00</td>\n",
       "    </tr>\n",
       "    <tr>\n",
       "      <th>25%</th>\n",
       "      <td>6.000000e+00</td>\n",
       "      <td>-7.399228e+01</td>\n",
       "      <td>4.073655e+01</td>\n",
       "      <td>-7.399158e+01</td>\n",
       "      <td>4.073558e+01</td>\n",
       "      <td>1.000000e+00</td>\n",
       "      <td>2.010000e+03</td>\n",
       "      <td>3.000000e+00</td>\n",
       "      <td>8.000000e+00</td>\n",
       "      <td>1.000000e+00</td>\n",
       "      <td>9.000000e+00</td>\n",
       "    </tr>\n",
       "    <tr>\n",
       "      <th>50%</th>\n",
       "      <td>8.500000e+00</td>\n",
       "      <td>-7.398210e+01</td>\n",
       "      <td>4.075334e+01</td>\n",
       "      <td>-7.398061e+01</td>\n",
       "      <td>4.075386e+01</td>\n",
       "      <td>1.000000e+00</td>\n",
       "      <td>2.012000e+03</td>\n",
       "      <td>6.000000e+00</td>\n",
       "      <td>1.600000e+01</td>\n",
       "      <td>3.000000e+00</td>\n",
       "      <td>1.400000e+01</td>\n",
       "    </tr>\n",
       "    <tr>\n",
       "      <th>75%</th>\n",
       "      <td>1.250000e+01</td>\n",
       "      <td>-7.396833e+01</td>\n",
       "      <td>4.076754e+01</td>\n",
       "      <td>-7.396535e+01</td>\n",
       "      <td>4.076841e+01</td>\n",
       "      <td>2.000000e+00</td>\n",
       "      <td>2.013000e+03</td>\n",
       "      <td>9.000000e+00</td>\n",
       "      <td>2.300000e+01</td>\n",
       "      <td>5.000000e+00</td>\n",
       "      <td>1.900000e+01</td>\n",
       "    </tr>\n",
       "    <tr>\n",
       "      <th>max</th>\n",
       "      <td>5.000000e+02</td>\n",
       "      <td>-7.206320e+01</td>\n",
       "      <td>4.192279e+01</td>\n",
       "      <td>-7.219609e+01</td>\n",
       "      <td>4.199811e+01</td>\n",
       "      <td>1.290000e+02</td>\n",
       "      <td>2.015000e+03</td>\n",
       "      <td>1.200000e+01</td>\n",
       "      <td>3.100000e+01</td>\n",
       "      <td>6.000000e+00</td>\n",
       "      <td>2.300000e+01</td>\n",
       "    </tr>\n",
       "  </tbody>\n",
       "</table>\n",
       "</div>"
      ],
      "text/plain": [
       "        fare_amount  pickup_longitude  pickup_latitude  dropoff_longitude  \\\n",
       "count  3.915543e+06      3.915543e+06     3.915543e+06       3.915543e+06   \n",
       "mean   1.132662e+01     -7.397517e+01     4.075104e+01      -7.397431e+01   \n",
       "std    9.709136e+00      3.917861e-02     3.007927e-02       3.831200e-02   \n",
       "min    2.500000e+00     -7.498856e+01     4.005272e+01      -7.499828e+01   \n",
       "25%    6.000000e+00     -7.399228e+01     4.073655e+01      -7.399158e+01   \n",
       "50%    8.500000e+00     -7.398210e+01     4.075334e+01      -7.398061e+01   \n",
       "75%    1.250000e+01     -7.396833e+01     4.076754e+01      -7.396535e+01   \n",
       "max    5.000000e+02     -7.206320e+01     4.192279e+01      -7.219609e+01   \n",
       "\n",
       "       dropoff_latitude  passenger_count          Year         Month  \\\n",
       "count      3.915543e+06     3.915543e+06  3.915543e+06  3.915543e+06   \n",
       "mean       4.075141e+01     1.684201e+00  2.011736e+03  6.268611e+00   \n",
       "std        3.322418e-02     1.308739e+00  1.862858e+00  3.436337e+00   \n",
       "min        4.000565e+01     0.000000e+00  2.009000e+03  1.000000e+00   \n",
       "25%        4.073558e+01     1.000000e+00  2.010000e+03  3.000000e+00   \n",
       "50%        4.075386e+01     1.000000e+00  2.012000e+03  6.000000e+00   \n",
       "75%        4.076841e+01     2.000000e+00  2.013000e+03  9.000000e+00   \n",
       "max        4.199811e+01     1.290000e+02  2.015000e+03  1.200000e+01   \n",
       "\n",
       "               Date   Day of Week          Hour  \n",
       "count  3.915543e+06  3.915543e+06  3.915543e+06  \n",
       "mean   1.571538e+01  3.041275e+00  1.351376e+01  \n",
       "std    8.685053e+00  1.949656e+00  6.514405e+00  \n",
       "min    1.000000e+00  0.000000e+00  0.000000e+00  \n",
       "25%    8.000000e+00  1.000000e+00  9.000000e+00  \n",
       "50%    1.600000e+01  3.000000e+00  1.400000e+01  \n",
       "75%    2.300000e+01  5.000000e+00  1.900000e+01  \n",
       "max    3.100000e+01  6.000000e+00  2.300000e+01  "
      ]
     },
     "execution_count": 14,
     "metadata": {},
     "output_type": "execute_result"
    }
   ],
   "source": [
    "df.describe()"
   ]
  },
  {
   "cell_type": "code",
   "execution_count": 15,
   "metadata": {
    "execution": {
     "iopub.execute_input": "2020-12-02T13:53:43.220717Z",
     "iopub.status.busy": "2020-12-02T13:53:43.219845Z",
     "iopub.status.idle": "2020-12-02T13:53:43.486761Z",
     "shell.execute_reply": "2020-12-02T13:53:43.486078Z"
    },
    "papermill": {
     "duration": 0.313005,
     "end_time": "2020-12-02T13:53:43.486901",
     "exception": false,
     "start_time": "2020-12-02T13:53:43.173896",
     "status": "completed"
    },
    "tags": []
   },
   "outputs": [],
   "source": [
    "import geopy.distance\n",
    "\n",
    "def geodesic_dist(trip):\n",
    "    pickup_lat = trip['pickup_latitude']\n",
    "    pickup_long = trip['pickup_longitude']\n",
    "    dropoff_lat = trip['dropoff_latitude']\n",
    "    dropoff_long = trip['dropoff_longitude']\n",
    "    distance = geopy.distance.geodesic((pickup_lat, pickup_long), \n",
    "                                       (dropoff_lat, dropoff_long)).miles\n",
    "    try:\n",
    "        return distance\n",
    "    except ValueError:\n",
    "        return np.nan\n",
    "    \n",
    "def circle_dist(trip):\n",
    "    pickup_lat = trip['pickup_latitude']\n",
    "    pickup_long = trip['pickup_longitude']\n",
    "    dropoff_lat = trip['dropoff_latitude']\n",
    "    dropoff_long = trip['dropoff_longitude']\n",
    "    distance = geopy.distance.great_circle((pickup_lat, pickup_long), \n",
    "                                       (dropoff_lat, dropoff_long)).miles\n",
    "    try:\n",
    "        return distance\n",
    "    except ValueError:\n",
    "        return np.nan"
   ]
  },
  {
   "cell_type": "code",
   "execution_count": 16,
   "metadata": {
    "execution": {
     "iopub.execute_input": "2020-12-02T13:53:43.575617Z",
     "iopub.status.busy": "2020-12-02T13:53:43.570352Z",
     "iopub.status.idle": "2020-12-02T13:53:43.587339Z",
     "shell.execute_reply": "2020-12-02T13:53:43.587990Z"
    },
    "papermill": {
     "duration": 0.066721,
     "end_time": "2020-12-02T13:53:43.588181",
     "exception": false,
     "start_time": "2020-12-02T13:53:43.521460",
     "status": "completed"
    },
    "tags": []
   },
   "outputs": [],
   "source": [
    "def jfk_dist(trip):\n",
    "    jfk_lat = 40.6413\n",
    "    jfk_long = -73.7781\n",
    "    dropoff_lat = trip['dropoff_latitude']\n",
    "    dropoff_long = trip['dropoff_longitude']\n",
    "    jfk_distance = geopy.distance.geodesic((dropoff_lat, dropoff_long), (jfk_lat, jfk_long)).miles\n",
    "    return jfk_distance\n",
    "\n",
    "def lga_dist(trip):\n",
    "    lga_lat = 40.7769\n",
    "    lga_long = -73.8740\n",
    "    dropoff_lat = trip['dropoff_latitude']\n",
    "    dropoff_long = trip['dropoff_longitude']\n",
    "    lga_distance = geopy.distance.geodesic((dropoff_lat, dropoff_long), (lga_lat, lga_long)).miles\n",
    "    return lga_distance\n",
    "\n",
    "def ewr_dist(trip):\n",
    "    ewr_lat = 40.6895\n",
    "    ewr_long = -74.1745\n",
    "    dropoff_lat = trip['dropoff_latitude']\n",
    "    dropoff_long = trip['dropoff_longitude']\n",
    "    ewr_distance = geopy.distance.geodesic((dropoff_lat, dropoff_long), (ewr_lat, ewr_long)).miles\n",
    "    return ewr_distance\n",
    "\n",
    "def tsq_dist(trip):\n",
    "    tsq_lat = 40.7580\n",
    "    tsq_long = -73.9855\n",
    "    dropoff_lat = trip['dropoff_latitude']\n",
    "    dropoff_long = trip['dropoff_longitude']\n",
    "    tsq_distance = geopy.distance.geodesic((dropoff_lat, dropoff_long), (tsq_lat, tsq_long)).miles\n",
    "    return tsq_distance\n",
    "\n",
    "def cpk_dist(trip):\n",
    "    cpk_lat = 40.7812\n",
    "    cpk_long = -73.9665\n",
    "    dropoff_lat = trip['dropoff_latitude']\n",
    "    dropoff_long = trip['dropoff_longitude']\n",
    "    cpk_distance = geopy.distance.geodesic((dropoff_lat, dropoff_long), (cpk_lat, cpk_long)).miles\n",
    "    return cpk_distance\n",
    "\n",
    "def lib_dist(trip):\n",
    "    lib_lat = 40.6892\n",
    "    lib_long = -74.0445\n",
    "    dropoff_lat = trip['dropoff_latitude']\n",
    "    dropoff_long = trip['dropoff_longitude']\n",
    "    lib_distance = geopy.distance.geodesic((dropoff_lat, dropoff_long), (lib_lat, lib_long)).miles\n",
    "    return lib_distance\n",
    "\n",
    "def gct_dist(trip):\n",
    "    gct_lat = 40.7527\n",
    "    gct_long = -73.9772\n",
    "    dropoff_lat = trip['dropoff_latitude']\n",
    "    dropoff_long = trip['dropoff_longitude']\n",
    "    gct_distance = geopy.distance.geodesic((dropoff_lat, dropoff_long), (gct_lat, gct_long)).miles\n",
    "    return gct_distance\n",
    "\n",
    "def met_dist(trip):\n",
    "    met_lat = 40.7794\n",
    "    met_long = -73.9632\n",
    "    dropoff_lat = trip['dropoff_latitude']\n",
    "    dropoff_long = trip['dropoff_longitude']\n",
    "    met_distance = geopy.distance.geodesic((dropoff_lat, dropoff_long), (met_lat, met_long)).miles\n",
    "    return met_distance\n",
    "\n",
    "def wtc_dist(trip):\n",
    "    wtc_lat = 40.7126\n",
    "    wtc_long = -74.0099\n",
    "    dropoff_lat = trip['dropoff_latitude']\n",
    "    dropoff_long = trip['dropoff_longitude']\n",
    "    wtc_distance = geopy.distance.geodesic((dropoff_lat, dropoff_long), (wtc_lat, wtc_long)).miles\n",
    "    return wtc_distance"
   ]
  },
  {
   "cell_type": "code",
   "execution_count": 17,
   "metadata": {
    "execution": {
     "iopub.execute_input": "2020-12-02T13:53:43.670097Z",
     "iopub.status.busy": "2020-12-02T13:53:43.668964Z",
     "iopub.status.idle": "2020-12-02T13:53:43.671779Z",
     "shell.execute_reply": "2020-12-02T13:53:43.672327Z"
    },
    "papermill": {
     "duration": 0.04806,
     "end_time": "2020-12-02T13:53:43.672493",
     "exception": false,
     "start_time": "2020-12-02T13:53:43.624433",
     "status": "completed"
    },
    "tags": []
   },
   "outputs": [],
   "source": [
    "def optimize_floats(df):\n",
    "    floats = df.select_dtypes(include=['float64']).columns.tolist()\n",
    "    df[floats] = df[floats].apply(pd.to_numeric, downcast='float')\n",
    "    return df\n",
    "\n",
    "\n",
    "def optimize_ints(df):\n",
    "    ints = df.select_dtypes(include=['int64']).columns.tolist()\n",
    "    df[ints] = df[ints].apply(pd.to_numeric, downcast='integer')\n",
    "    return df\n",
    "\n",
    "def optimize(df):\n",
    "    return optimize_floats(optimize_ints(df))"
   ]
  },
  {
   "cell_type": "code",
   "execution_count": 18,
   "metadata": {
    "execution": {
     "iopub.execute_input": "2020-12-02T13:53:43.877857Z",
     "iopub.status.busy": "2020-12-02T13:53:43.813379Z",
     "iopub.status.idle": "2020-12-02T13:53:44.773123Z",
     "shell.execute_reply": "2020-12-02T13:53:44.772252Z"
    },
    "papermill": {
     "duration": 1.066232,
     "end_time": "2020-12-02T13:53:44.773266",
     "exception": false,
     "start_time": "2020-12-02T13:53:43.707034",
     "status": "completed"
    },
    "tags": []
   },
   "outputs": [],
   "source": [
    "df = optimize(df)\n",
    "test_df = optimize(test_df)"
   ]
  },
  {
   "cell_type": "code",
   "execution_count": 19,
   "metadata": {
    "execution": {
     "iopub.execute_input": "2020-12-02T13:53:44.858934Z",
     "iopub.status.busy": "2020-12-02T13:53:44.858108Z",
     "iopub.status.idle": "2020-12-02T13:53:44.861358Z",
     "shell.execute_reply": "2020-12-02T13:53:44.860650Z"
    },
    "papermill": {
     "duration": 0.053166,
     "end_time": "2020-12-02T13:53:44.861479",
     "exception": false,
     "start_time": "2020-12-02T13:53:44.808313",
     "status": "completed"
    },
    "tags": []
   },
   "outputs": [],
   "source": [
    "def calc_dists(df):\n",
    "    df['geodesic'] = df.apply(lambda x: geodesic_dist(x), axis = 1 )\n",
    "    df['circle'] = df.apply(lambda x: circle_dist(x), axis = 1 )\n",
    "    df['jfk'] = df.apply(lambda x: jfk_dist(x), axis = 1 )\n",
    "    df['lga'] = df.apply(lambda x: lga_dist(x), axis = 1 )\n",
    "    df['ewr'] = df.apply(lambda x: ewr_dist(x), axis = 1 )\n",
    "    df['tsq'] = df.apply(lambda x: tsq_dist(x), axis = 1 )\n",
    "    df['cpk'] = df.apply(lambda x: cpk_dist(x), axis = 1 )\n",
    "    df['lib'] = df.apply(lambda x: lib_dist(x), axis = 1 )\n",
    "    df['gct'] = df.apply(lambda x: gct_dist(x), axis = 1 )\n",
    "    df['met'] = df.apply(lambda x: met_dist(x), axis = 1 )\n",
    "    df['wtc'] = df.apply(lambda x: wtc_dist(x), axis = 1 )\n",
    "    return df"
   ]
  },
  {
   "cell_type": "code",
   "execution_count": 20,
   "metadata": {
    "execution": {
     "iopub.execute_input": "2020-12-02T13:53:44.937380Z",
     "iopub.status.busy": "2020-12-02T13:53:44.936486Z",
     "iopub.status.idle": "2020-12-02T18:06:47.852415Z",
     "shell.execute_reply": "2020-12-02T18:06:47.850850Z"
    },
    "papermill": {
     "duration": 15182.956324,
     "end_time": "2020-12-02T18:06:47.852823",
     "exception": false,
     "start_time": "2020-12-02T13:53:44.896499",
     "status": "completed"
    },
    "tags": []
   },
   "outputs": [],
   "source": [
    "df = calc_dists(df)\n",
    "test_df = calc_dists(test_df)"
   ]
  },
  {
   "cell_type": "code",
   "execution_count": 21,
   "metadata": {
    "execution": {
     "iopub.execute_input": "2020-12-02T18:06:47.935915Z",
     "iopub.status.busy": "2020-12-02T18:06:47.934687Z",
     "iopub.status.idle": "2020-12-02T18:06:47.938524Z",
     "shell.execute_reply": "2020-12-02T18:06:47.937796Z"
    },
    "papermill": {
     "duration": 0.044787,
     "end_time": "2020-12-02T18:06:47.938666",
     "exception": false,
     "start_time": "2020-12-02T18:06:47.893879",
     "status": "completed"
    },
    "tags": []
   },
   "outputs": [],
   "source": [
    "# df.drop(['pickup_longitude','pickup_latitude','dropoff_longitude','dropoff_latitude'],axis=1,inplace=True)\n",
    "# test_df.drop(['pickup_longitude','pickup_latitude','dropoff_longitude','dropoff_latitude'],axis=1,inplace=True)"
   ]
  },
  {
   "cell_type": "code",
   "execution_count": 22,
   "metadata": {
    "execution": {
     "iopub.execute_input": "2020-12-02T18:06:48.017779Z",
     "iopub.status.busy": "2020-12-02T18:06:48.016969Z",
     "iopub.status.idle": "2020-12-02T18:06:53.390223Z",
     "shell.execute_reply": "2020-12-02T18:06:53.390968Z"
    },
    "papermill": {
     "duration": 5.416474,
     "end_time": "2020-12-02T18:06:53.391153",
     "exception": false,
     "start_time": "2020-12-02T18:06:47.974679",
     "status": "completed"
    },
    "tags": []
   },
   "outputs": [
    {
     "data": {
      "image/png": "[encoded data removed]",
      "text/plain": [
       "<Figure size 720x576 with 2 Axes>"
      ]
     },
     "metadata": {
      "needs_background": "light"
     },
     "output_type": "display_data"
    }
   ],
   "source": [
    "plt.figure(figsize=(10, 8))\n",
    "sns.heatmap(df.drop('fare_amount', axis=1).corr(), square=True)\n",
    "plt.suptitle('Pearson Correlation Heatmap')\n",
    "plt.show();"
   ]
  },
  {
   "cell_type": "code",
   "execution_count": 23,
   "metadata": {
    "execution": {
     "iopub.execute_input": "2020-12-02T18:06:53.505803Z",
     "iopub.status.busy": "2020-12-02T18:06:53.504441Z",
     "iopub.status.idle": "2020-12-02T18:07:04.791886Z",
     "shell.execute_reply": "2020-12-02T18:07:04.792492Z"
    },
    "papermill": {
     "duration": 11.334867,
     "end_time": "2020-12-02T18:07:04.792674",
     "exception": false,
     "start_time": "2020-12-02T18:06:53.457807",
     "status": "completed"
    },
    "tags": []
   },
   "outputs": [
    {
     "data": {
      "image/png": "[encoded data removed]",
      "text/plain": [
       "<Figure size 1368x360 with 2 Axes>"
      ]
     },
     "metadata": {
      "needs_background": "light"
     },
     "output_type": "display_data"
    }
   ],
   "source": [
    "(mu, sigma) = norm.fit(df['geodesic'])\n",
    "f, (ax1, ax2) = plt.subplots(1, 2, figsize=(19, 5))\n",
    "ax1 = sns.distplot(df['geodesic'] , fit=norm, ax=ax1)\n",
    "ax1.legend([f'Normal distribution ($\\mu=$ {mu:.3f} and $\\sigma=$ {sigma:.3f})'], loc='best')\n",
    "ax1.set_ylabel('Frequency')\n",
    "ax1.set_title('Distance Distribution')\n",
    "ax2 = stats.probplot(df['geodesic'], plot=plt)\n",
    "f.show();"
   ]
  },
  {
   "cell_type": "code",
   "execution_count": 24,
   "metadata": {
    "execution": {
     "iopub.execute_input": "2020-12-02T18:07:04.882471Z",
     "iopub.status.busy": "2020-12-02T18:07:04.879330Z",
     "iopub.status.idle": "2020-12-02T18:07:04.913264Z",
     "shell.execute_reply": "2020-12-02T18:07:04.912495Z"
    },
    "papermill": {
     "duration": 0.081432,
     "end_time": "2020-12-02T18:07:04.913391",
     "exception": false,
     "start_time": "2020-12-02T18:07:04.831959",
     "status": "completed"
    },
    "tags": []
   },
   "outputs": [
    {
     "data": {
      "text/html": [
       "<div>\n",
       "<style scoped>\n",
       "    .dataframe tbody tr th:only-of-type {\n",
       "        vertical-align: middle;\n",
       "    }\n",
       "\n",
       "    .dataframe tbody tr th {\n",
       "        vertical-align: top;\n",
       "    }\n",
       "\n",
       "    .dataframe thead th {\n",
       "        text-align: right;\n",
       "    }\n",
       "</style>\n",
       "<table border=\"1\" class=\"dataframe\">\n",
       "  <thead>\n",
       "    <tr style=\"text-align: right;\">\n",
       "      <th></th>\n",
       "      <th>fare_amount</th>\n",
       "      <th>pickup_longitude</th>\n",
       "      <th>pickup_latitude</th>\n",
       "      <th>dropoff_longitude</th>\n",
       "      <th>dropoff_latitude</th>\n",
       "      <th>passenger_count</th>\n",
       "      <th>Year</th>\n",
       "      <th>Month</th>\n",
       "      <th>Date</th>\n",
       "      <th>Day of Week</th>\n",
       "      <th>...</th>\n",
       "      <th>circle</th>\n",
       "      <th>jfk</th>\n",
       "      <th>lga</th>\n",
       "      <th>ewr</th>\n",
       "      <th>tsq</th>\n",
       "      <th>cpk</th>\n",
       "      <th>lib</th>\n",
       "      <th>gct</th>\n",
       "      <th>met</th>\n",
       "      <th>wtc</th>\n",
       "    </tr>\n",
       "  </thead>\n",
       "  <tbody>\n",
       "    <tr>\n",
       "      <th>1937753</th>\n",
       "      <td>20.5</td>\n",
       "      <td>-72.063202</td>\n",
       "      <td>40.834679</td>\n",
       "      <td>-73.982452</td>\n",
       "      <td>40.772621</td>\n",
       "      <td>2</td>\n",
       "      <td>2015</td>\n",
       "      <td>5</td>\n",
       "      <td>8</td>\n",
       "      <td>4</td>\n",
       "      <td>...</td>\n",
       "      <td>100.467284</td>\n",
       "      <td>14.044726</td>\n",
       "      <td>5.696716</td>\n",
       "      <td>11.59823</td>\n",
       "      <td>1.021493</td>\n",
       "      <td>1.025003</td>\n",
       "      <td>6.613799</td>\n",
       "      <td>1.401967</td>\n",
       "      <td>1.112967</td>\n",
       "      <td>4.384979</td>\n",
       "    </tr>\n",
       "  </tbody>\n",
       "</table>\n",
       "<p>1 rows × 22 columns</p>\n",
       "</div>"
      ],
      "text/plain": [
       "         fare_amount  pickup_longitude  pickup_latitude  dropoff_longitude  \\\n",
       "1937753         20.5        -72.063202        40.834679         -73.982452   \n",
       "\n",
       "         dropoff_latitude  passenger_count  Year  Month  Date  Day of Week  \\\n",
       "1937753         40.772621                2  2015      5     8            4   \n",
       "\n",
       "         ...      circle        jfk       lga       ewr       tsq       cpk  \\\n",
       "1937753  ...  100.467284  14.044726  5.696716  11.59823  1.021493  1.025003   \n",
       "\n",
       "              lib       gct       met       wtc  \n",
       "1937753  6.613799  1.401967  1.112967  4.384979  \n",
       "\n",
       "[1 rows x 22 columns]"
      ]
     },
     "execution_count": 24,
     "metadata": {},
     "output_type": "execute_result"
    }
   ],
   "source": [
    "df[df['geodesic'] > 100].sort_values('passenger_count')"
   ]
  },
  {
   "cell_type": "code",
   "execution_count": 25,
   "metadata": {
    "execution": {
     "iopub.execute_input": "2020-12-02T18:07:05.000264Z",
     "iopub.status.busy": "2020-12-02T18:07:04.999464Z",
     "iopub.status.idle": "2020-12-02T18:07:05.753714Z",
     "shell.execute_reply": "2020-12-02T18:07:05.753036Z"
    },
    "papermill": {
     "duration": 0.799682,
     "end_time": "2020-12-02T18:07:05.753847",
     "exception": false,
     "start_time": "2020-12-02T18:07:04.954165",
     "status": "completed"
    },
    "tags": []
   },
   "outputs": [],
   "source": [
    "df.drop(df[df['geodesic'] > 100].index, axis=0, inplace = True)"
   ]
  },
  {
   "cell_type": "code",
   "execution_count": 26,
   "metadata": {
    "execution": {
     "iopub.execute_input": "2020-12-02T18:07:05.843650Z",
     "iopub.status.busy": "2020-12-02T18:07:05.842779Z",
     "iopub.status.idle": "2020-12-02T18:07:15.689492Z",
     "shell.execute_reply": "2020-12-02T18:07:15.688781Z"
    },
    "papermill": {
     "duration": 9.895637,
     "end_time": "2020-12-02T18:07:15.689650",
     "exception": false,
     "start_time": "2020-12-02T18:07:05.794013",
     "status": "completed"
    },
    "tags": []
   },
   "outputs": [
    {
     "data": {
      "image/png": "[encoded data removed]",
      "text/plain": [
       "<Figure size 1368x360 with 2 Axes>"
      ]
     },
     "metadata": {
      "needs_background": "light"
     },
     "output_type": "display_data"
    }
   ],
   "source": [
    "(mu, sigma) = norm.fit(df['fare_amount'])\n",
    "f, (ax1, ax2) = plt.subplots(1, 2, figsize=(19, 5))\n",
    "ax1 = sns.distplot(df['fare_amount'] , fit=norm, ax=ax1)\n",
    "ax1.legend([f'Normal distribution ($\\mu=$ {mu:.3f} and $\\sigma=$ {sigma:.3f})'], loc='best')\n",
    "ax1.set_ylabel('Frequency')\n",
    "ax1.set_title('Fare Distribution')\n",
    "ax2 = stats.probplot(df['fare_amount'], plot=plt)\n",
    "f.show();"
   ]
  },
  {
   "cell_type": "code",
   "execution_count": 27,
   "metadata": {
    "execution": {
     "iopub.execute_input": "2020-12-02T18:07:15.828287Z",
     "iopub.status.busy": "2020-12-02T18:07:15.811520Z",
     "iopub.status.idle": "2020-12-02T18:07:18.822945Z",
     "shell.execute_reply": "2020-12-02T18:07:18.822194Z"
    },
    "papermill": {
     "duration": 3.091573,
     "end_time": "2020-12-02T18:07:18.823068",
     "exception": false,
     "start_time": "2020-12-02T18:07:15.731495",
     "status": "completed"
    },
    "tags": []
   },
   "outputs": [
    {
     "data": {
      "text/html": [
       "<div>\n",
       "<style scoped>\n",
       "    .dataframe tbody tr th:only-of-type {\n",
       "        vertical-align: middle;\n",
       "    }\n",
       "\n",
       "    .dataframe tbody tr th {\n",
       "        vertical-align: top;\n",
       "    }\n",
       "\n",
       "    .dataframe thead th {\n",
       "        text-align: right;\n",
       "    }\n",
       "</style>\n",
       "<table border=\"1\" class=\"dataframe\">\n",
       "  <thead>\n",
       "    <tr style=\"text-align: right;\">\n",
       "      <th></th>\n",
       "      <th>fare_amount</th>\n",
       "      <th>pickup_longitude</th>\n",
       "      <th>pickup_latitude</th>\n",
       "      <th>dropoff_longitude</th>\n",
       "      <th>dropoff_latitude</th>\n",
       "      <th>passenger_count</th>\n",
       "      <th>Year</th>\n",
       "      <th>Month</th>\n",
       "      <th>Date</th>\n",
       "      <th>Day of Week</th>\n",
       "      <th>...</th>\n",
       "      <th>circle</th>\n",
       "      <th>jfk</th>\n",
       "      <th>lga</th>\n",
       "      <th>ewr</th>\n",
       "      <th>tsq</th>\n",
       "      <th>cpk</th>\n",
       "      <th>lib</th>\n",
       "      <th>gct</th>\n",
       "      <th>met</th>\n",
       "      <th>wtc</th>\n",
       "    </tr>\n",
       "  </thead>\n",
       "  <tbody>\n",
       "    <tr>\n",
       "      <th>count</th>\n",
       "      <td>3.915542e+06</td>\n",
       "      <td>3.915542e+06</td>\n",
       "      <td>3.915542e+06</td>\n",
       "      <td>3.915542e+06</td>\n",
       "      <td>3.915542e+06</td>\n",
       "      <td>3.915542e+06</td>\n",
       "      <td>3.915542e+06</td>\n",
       "      <td>3.915542e+06</td>\n",
       "      <td>3.915542e+06</td>\n",
       "      <td>3.915542e+06</td>\n",
       "      <td>...</td>\n",
       "      <td>3.915542e+06</td>\n",
       "      <td>3.915542e+06</td>\n",
       "      <td>3.915542e+06</td>\n",
       "      <td>3.915542e+06</td>\n",
       "      <td>3.915542e+06</td>\n",
       "      <td>3.915542e+06</td>\n",
       "      <td>3.915542e+06</td>\n",
       "      <td>3.915542e+06</td>\n",
       "      <td>3.915542e+06</td>\n",
       "      <td>3.915542e+06</td>\n",
       "    </tr>\n",
       "    <tr>\n",
       "      <th>mean</th>\n",
       "      <td>1.130241e+01</td>\n",
       "      <td>-7.492648e+01</td>\n",
       "      <td>4.125544e+01</td>\n",
       "      <td>-7.492591e+01</td>\n",
       "      <td>4.125556e+01</td>\n",
       "      <td>1.684201e+00</td>\n",
       "      <td>2.011736e+03</td>\n",
       "      <td>6.268611e+00</td>\n",
       "      <td>1.571538e+01</td>\n",
       "      <td>3.041275e+00</td>\n",
       "      <td>...</td>\n",
       "      <td>2.069780e+00</td>\n",
       "      <td>1.301821e+01</td>\n",
       "      <td>6.034211e+00</td>\n",
       "      <td>1.151188e+01</td>\n",
       "      <td>2.095550e+00</td>\n",
       "      <td>2.832230e+00</td>\n",
       "      <td>5.933682e+00</td>\n",
       "      <td>2.043798e+00</td>\n",
       "      <td>2.788633e+00</td>\n",
       "      <td>3.710579e+00</td>\n",
       "    </tr>\n",
       "    <tr>\n",
       "      <th>std</th>\n",
       "      <td>9.672977e+00</td>\n",
       "      <td>9.577235e-01</td>\n",
       "      <td>5.058470e-01</td>\n",
       "      <td>9.579758e-01</td>\n",
       "      <td>5.058016e-01</td>\n",
       "      <td>1.308739e+00</td>\n",
       "      <td>1.862857e+00</td>\n",
       "      <td>3.436337e+00</td>\n",
       "      <td>8.685053e+00</td>\n",
       "      <td>1.949656e+00</td>\n",
       "      <td>...</td>\n",
       "      <td>2.360049e+00</td>\n",
       "      <td>1.937548e+00</td>\n",
       "      <td>1.917134e+00</td>\n",
       "      <td>2.339737e+00</td>\n",
       "      <td>2.335266e+00</td>\n",
       "      <td>2.379821e+00</td>\n",
       "      <td>2.468732e+00</td>\n",
       "      <td>2.268928e+00</td>\n",
       "      <td>2.363389e+00</td>\n",
       "      <td>2.487976e+00</td>\n",
       "    </tr>\n",
       "    <tr>\n",
       "      <th>min</th>\n",
       "      <td>2.500000e+00</td>\n",
       "      <td>-7.498856e+01</td>\n",
       "      <td>4.005272e+01</td>\n",
       "      <td>-7.499828e+01</td>\n",
       "      <td>4.000565e+01</td>\n",
       "      <td>0.000000e+00</td>\n",
       "      <td>2.009000e+03</td>\n",
       "      <td>1.000000e+00</td>\n",
       "      <td>1.000000e+00</td>\n",
       "      <td>0.000000e+00</td>\n",
       "      <td>...</td>\n",
       "      <td>0.000000e+00</td>\n",
       "      <td>9.170678e-02</td>\n",
       "      <td>2.093038e-02</td>\n",
       "      <td>8.390058e-02</td>\n",
       "      <td>1.868764e-04</td>\n",
       "      <td>5.107778e-03</td>\n",
       "      <td>3.057588e-02</td>\n",
       "      <td>9.992924e-04</td>\n",
       "      <td>1.141136e-02</td>\n",
       "      <td>3.259047e-04</td>\n",
       "    </tr>\n",
       "    <tr>\n",
       "      <th>25%</th>\n",
       "      <td>6.000000e+00</td>\n",
       "      <td>-7.399228e+01</td>\n",
       "      <td>4.073655e+01</td>\n",
       "      <td>-7.399158e+01</td>\n",
       "      <td>4.073558e+01</td>\n",
       "      <td>1.000000e+00</td>\n",
       "      <td>2.010000e+03</td>\n",
       "      <td>3.000000e+00</td>\n",
       "      <td>8.000000e+00</td>\n",
       "      <td>1.000000e+00</td>\n",
       "      <td>...</td>\n",
       "      <td>7.789772e-01</td>\n",
       "      <td>1.277613e+01</td>\n",
       "      <td>5.182713e+00</td>\n",
       "      <td>1.026711e+01</td>\n",
       "      <td>7.960285e-01</td>\n",
       "      <td>1.343871e+00</td>\n",
       "      <td>4.453508e+00</td>\n",
       "      <td>8.087892e-01</td>\n",
       "      <td>1.327421e+00</td>\n",
       "      <td>2.228826e+00</td>\n",
       "    </tr>\n",
       "    <tr>\n",
       "      <th>50%</th>\n",
       "      <td>8.500000e+00</td>\n",
       "      <td>-7.398210e+01</td>\n",
       "      <td>4.075334e+01</td>\n",
       "      <td>-7.398061e+01</td>\n",
       "      <td>4.075386e+01</td>\n",
       "      <td>1.000000e+00</td>\n",
       "      <td>2.012000e+03</td>\n",
       "      <td>6.000000e+00</td>\n",
       "      <td>1.600000e+01</td>\n",
       "      <td>3.000000e+00</td>\n",
       "      <td>...</td>\n",
       "      <td>1.337538e+00</td>\n",
       "      <td>1.318254e+01</td>\n",
       "      <td>5.930927e+00</td>\n",
       "      <td>1.119039e+01</td>\n",
       "      <td>1.557545e+00</td>\n",
       "      <td>2.341990e+00</td>\n",
       "      <td>5.673685e+00</td>\n",
       "      <td>1.542834e+00</td>\n",
       "      <td>2.305464e+00</td>\n",
       "      <td>3.416126e+00</td>\n",
       "    </tr>\n",
       "    <tr>\n",
       "      <th>75%</th>\n",
       "      <td>1.250000e+01</td>\n",
       "      <td>-7.396833e+01</td>\n",
       "      <td>4.076754e+01</td>\n",
       "      <td>-7.396535e+01</td>\n",
       "      <td>4.076841e+01</td>\n",
       "      <td>2.000000e+00</td>\n",
       "      <td>2.013000e+03</td>\n",
       "      <td>9.000000e+00</td>\n",
       "      <td>2.300000e+01</td>\n",
       "      <td>5.000000e+00</td>\n",
       "      <td>...</td>\n",
       "      <td>2.430117e+00</td>\n",
       "      <td>1.363309e+01</td>\n",
       "      <td>6.843184e+00</td>\n",
       "      <td>1.232609e+01</td>\n",
       "      <td>2.503976e+00</td>\n",
       "      <td>3.708383e+00</td>\n",
       "      <td>7.029394e+00</td>\n",
       "      <td>2.429734e+00</td>\n",
       "      <td>3.662193e+00</td>\n",
       "      <td>4.752864e+00</td>\n",
       "    </tr>\n",
       "    <tr>\n",
       "      <th>max</th>\n",
       "      <td>5.000000e+02</td>\n",
       "      <td>-7.216666e+01</td>\n",
       "      <td>4.192279e+01</td>\n",
       "      <td>-7.219609e+01</td>\n",
       "      <td>4.199811e+01</td>\n",
       "      <td>1.290000e+02</td>\n",
       "      <td>2.015000e+03</td>\n",
       "      <td>1.200000e+01</td>\n",
       "      <td>3.100000e+01</td>\n",
       "      <td>6.000000e+00</td>\n",
       "      <td>...</td>\n",
       "      <td>9.569635e+01</td>\n",
       "      <td>9.932194e+01</td>\n",
       "      <td>9.373068e+01</td>\n",
       "      <td>1.099278e+02</td>\n",
       "      <td>9.898974e+01</td>\n",
       "      <td>9.731025e+01</td>\n",
       "      <td>1.041320e+02</td>\n",
       "      <td>9.880900e+01</td>\n",
       "      <td>9.722530e+01</td>\n",
       "      <td>1.017316e+02</td>\n",
       "    </tr>\n",
       "  </tbody>\n",
       "</table>\n",
       "<p>8 rows × 22 columns</p>\n",
       "</div>"
      ],
      "text/plain": [
       "        fare_amount  pickup_longitude  pickup_latitude  dropoff_longitude  \\\n",
       "count  3.915542e+06      3.915542e+06     3.915542e+06       3.915542e+06   \n",
       "mean   1.130241e+01     -7.492648e+01     4.125544e+01      -7.492591e+01   \n",
       "std    9.672977e+00      9.577235e-01     5.058470e-01       9.579758e-01   \n",
       "min    2.500000e+00     -7.498856e+01     4.005272e+01      -7.499828e+01   \n",
       "25%    6.000000e+00     -7.399228e+01     4.073655e+01      -7.399158e+01   \n",
       "50%    8.500000e+00     -7.398210e+01     4.075334e+01      -7.398061e+01   \n",
       "75%    1.250000e+01     -7.396833e+01     4.076754e+01      -7.396535e+01   \n",
       "max    5.000000e+02     -7.216666e+01     4.192279e+01      -7.219609e+01   \n",
       "\n",
       "       dropoff_latitude  passenger_count          Year         Month  \\\n",
       "count      3.915542e+06     3.915542e+06  3.915542e+06  3.915542e+06   \n",
       "mean       4.125556e+01     1.684201e+00  2.011736e+03  6.268611e+00   \n",
       "std        5.058016e-01     1.308739e+00  1.862857e+00  3.436337e+00   \n",
       "min        4.000565e+01     0.000000e+00  2.009000e+03  1.000000e+00   \n",
       "25%        4.073558e+01     1.000000e+00  2.010000e+03  3.000000e+00   \n",
       "50%        4.075386e+01     1.000000e+00  2.012000e+03  6.000000e+00   \n",
       "75%        4.076841e+01     2.000000e+00  2.013000e+03  9.000000e+00   \n",
       "max        4.199811e+01     1.290000e+02  2.015000e+03  1.200000e+01   \n",
       "\n",
       "               Date   Day of Week  ...        circle           jfk  \\\n",
       "count  3.915542e+06  3.915542e+06  ...  3.915542e+06  3.915542e+06   \n",
       "mean   1.571538e+01  3.041275e+00  ...  2.069780e+00  1.301821e+01   \n",
       "std    8.685053e+00  1.949656e+00  ...  2.360049e+00  1.937548e+00   \n",
       "min    1.000000e+00  0.000000e+00  ...  0.000000e+00  9.170678e-02   \n",
       "25%    8.000000e+00  1.000000e+00  ...  7.789772e-01  1.277613e+01   \n",
       "50%    1.600000e+01  3.000000e+00  ...  1.337538e+00  1.318254e+01   \n",
       "75%    2.300000e+01  5.000000e+00  ...  2.430117e+00  1.363309e+01   \n",
       "max    3.100000e+01  6.000000e+00  ...  9.569635e+01  9.932194e+01   \n",
       "\n",
       "                lga           ewr           tsq           cpk           lib  \\\n",
       "count  3.915542e+06  3.915542e+06  3.915542e+06  3.915542e+06  3.915542e+06   \n",
       "mean   6.034211e+00  1.151188e+01  2.095550e+00  2.832230e+00  5.933682e+00   \n",
       "std    1.917134e+00  2.339737e+00  2.335266e+00  2.379821e+00  2.468732e+00   \n",
       "min    2.093038e-02  8.390058e-02  1.868764e-04  5.107778e-03  3.057588e-02   \n",
       "25%    5.182713e+00  1.026711e+01  7.960285e-01  1.343871e+00  4.453508e+00   \n",
       "50%    5.930927e+00  1.119039e+01  1.557545e+00  2.341990e+00  5.673685e+00   \n",
       "75%    6.843184e+00  1.232609e+01  2.503976e+00  3.708383e+00  7.029394e+00   \n",
       "max    9.373068e+01  1.099278e+02  9.898974e+01  9.731025e+01  1.041320e+02   \n",
       "\n",
       "                gct           met           wtc  \n",
       "count  3.915542e+06  3.915542e+06  3.915542e+06  \n",
       "mean   2.043798e+00  2.788633e+00  3.710579e+00  \n",
       "std    2.268928e+00  2.363389e+00  2.487976e+00  \n",
       "min    9.992924e-04  1.141136e-02  3.259047e-04  \n",
       "25%    8.087892e-01  1.327421e+00  2.228826e+00  \n",
       "50%    1.542834e+00  2.305464e+00  3.416126e+00  \n",
       "75%    2.429734e+00  3.662193e+00  4.752864e+00  \n",
       "max    9.880900e+01  9.722530e+01  1.017316e+02  \n",
       "\n",
       "[8 rows x 22 columns]"
      ]
     },
     "execution_count": 27,
     "metadata": {},
     "output_type": "execute_result"
    }
   ],
   "source": [
    "df.describe()"
   ]
  },
  {
   "cell_type": "code",
   "execution_count": 28,
   "metadata": {
    "execution": {
     "iopub.execute_input": "2020-12-02T18:07:19.163643Z",
     "iopub.status.busy": "2020-12-02T18:07:19.162847Z",
     "iopub.status.idle": "2020-12-02T18:07:19.938929Z",
     "shell.execute_reply": "2020-12-02T18:07:19.937971Z"
    },
    "papermill": {
     "duration": 1.073895,
     "end_time": "2020-12-02T18:07:19.939078",
     "exception": false,
     "start_time": "2020-12-02T18:07:18.865183",
     "status": "completed"
    },
    "tags": []
   },
   "outputs": [],
   "source": [
    "df = optimize(df)\n",
    "test_df = optimize(test_df)"
   ]
  },
  {
   "cell_type": "code",
   "execution_count": 29,
   "metadata": {
    "execution": {
     "iopub.execute_input": "2020-12-02T18:07:20.047024Z",
     "iopub.status.busy": "2020-12-02T18:07:20.046007Z",
     "iopub.status.idle": "2020-12-02T18:07:20.051402Z",
     "shell.execute_reply": "2020-12-02T18:07:20.050787Z"
    },
    "papermill": {
     "duration": 0.064615,
     "end_time": "2020-12-02T18:07:20.051526",
     "exception": false,
     "start_time": "2020-12-02T18:07:19.986911",
     "status": "completed"
    },
    "tags": []
   },
   "outputs": [
    {
     "data": {
      "text/plain": [
       "fare_amount          float32\n",
       "pickup_longitude     float32\n",
       "pickup_latitude      float32\n",
       "dropoff_longitude    float32\n",
       "dropoff_latitude     float32\n",
       "passenger_count        int16\n",
       "Year                   int16\n",
       "Month                   int8\n",
       "Date                    int8\n",
       "Day of Week             int8\n",
       "Hour                    int8\n",
       "geodesic             float32\n",
       "circle               float32\n",
       "jfk                  float32\n",
       "lga                  float32\n",
       "ewr                  float32\n",
       "tsq                  float32\n",
       "cpk                  float32\n",
       "lib                  float32\n",
       "gct                  float32\n",
       "met                  float32\n",
       "wtc                  float32\n",
       "dtype: object"
      ]
     },
     "execution_count": 29,
     "metadata": {},
     "output_type": "execute_result"
    }
   ],
   "source": [
    "df.dtypes"
   ]
  },
  {
   "cell_type": "code",
   "execution_count": 30,
   "metadata": {
    "execution": {
     "iopub.execute_input": "2020-12-02T18:07:20.149251Z",
     "iopub.status.busy": "2020-12-02T18:07:20.147676Z",
     "iopub.status.idle": "2020-12-02T18:07:21.567805Z",
     "shell.execute_reply": "2020-12-02T18:07:21.567128Z"
    },
    "papermill": {
     "duration": 1.470827,
     "end_time": "2020-12-02T18:07:21.567947",
     "exception": false,
     "start_time": "2020-12-02T18:07:20.097120",
     "status": "completed"
    },
    "tags": []
   },
   "outputs": [],
   "source": [
    "X, y = df.drop('fare_amount', axis = 1), df['fare_amount']\n",
    "X_train, X_test, y_train, y_test = train_test_split(X, y, test_size=0.2, random_state=12)"
   ]
  },
  {
   "cell_type": "code",
   "execution_count": 31,
   "metadata": {
    "execution": {
     "iopub.execute_input": "2020-12-02T18:07:21.667565Z",
     "iopub.status.busy": "2020-12-02T18:07:21.666787Z",
     "iopub.status.idle": "2020-12-02T21:04:53.654295Z",
     "shell.execute_reply": "2020-12-02T21:04:53.653366Z"
    },
    "papermill": {
     "duration": 10652.042377,
     "end_time": "2020-12-02T21:04:53.654503",
     "exception": false,
     "start_time": "2020-12-02T18:07:21.612126",
     "status": "completed"
    },
    "tags": []
   },
   "outputs": [
    {
     "name": "stdout",
     "output_type": "stream",
     "text": [
      "[18:07:27] WARNING: ../src/learner.cc:516: \n",
      "Parameters: { n_estimators, silent } might not be used.\n",
      "\n",
      "  This may not be accurate due to some parameters are only used in language bindings but\n",
      "  passed down to XGBoost core.  Or some parameters are not used but slip through this\n",
      "  verification. Please open an issue if you find above cases.\n",
      "\n",
      "\n",
      "[0]\ttrain-rmse:13.87647\tvalid-rmse:13.82956\n",
      "Multiple eval metrics have been passed: 'valid-rmse' will be used for early stopping.\n",
      "\n",
      "Will train until valid-rmse hasn't improved in 100 rounds.\n",
      "[50]\ttrain-rmse:3.73506\tvalid-rmse:3.87157\n",
      "[100]\ttrain-rmse:3.37871\tvalid-rmse:3.63515\n",
      "[150]\ttrain-rmse:3.24671\tvalid-rmse:3.59370\n",
      "[200]\ttrain-rmse:3.16961\tvalid-rmse:3.57200\n",
      "[250]\ttrain-rmse:3.10313\tvalid-rmse:3.54950\n",
      "[300]\ttrain-rmse:3.05817\tvalid-rmse:3.53832\n",
      "[350]\ttrain-rmse:3.01778\tvalid-rmse:3.53044\n",
      "[400]\ttrain-rmse:2.98496\tvalid-rmse:3.52511\n",
      "[450]\ttrain-rmse:2.95338\tvalid-rmse:3.52079\n",
      "[499]\ttrain-rmse:2.92792\tvalid-rmse:3.51920\n"
     ]
    }
   ],
   "source": [
    "dtrain = xgb.DMatrix(X_train, label=y_train)\n",
    "dvalid = xgb.DMatrix(X_test, label=y_test)\n",
    "dtest = xgb.DMatrix(test_df)\n",
    "watchlist = [(dtrain, 'train'), (dvalid, 'valid')]\n",
    "\n",
    "xgb_params = {\n",
    "    'min_child_weight': 1, \n",
    "    'learning_rate': 0.05, \n",
    "    'colsample_bytree': 0.7, \n",
    "    'max_depth': 10,\n",
    "    'subsample': 0.7,\n",
    "    'n_estimators': 5000,\n",
    "    'n_jobs': -1, \n",
    "    'booster' : 'gbtree', \n",
    "    'silent': 1,\n",
    "    'eval_metric': 'rmse'}\n",
    "\n",
    "model = xgb.train(xgb_params, dtrain, 500, watchlist, early_stopping_rounds=100, maximize=False, verbose_eval=50)"
   ]
  },
  {
   "cell_type": "code",
   "execution_count": 32,
   "metadata": {
    "execution": {
     "iopub.execute_input": "2020-12-02T21:04:53.764313Z",
     "iopub.status.busy": "2020-12-02T21:04:53.763433Z",
     "iopub.status.idle": "2020-12-02T21:10:30.284895Z",
     "shell.execute_reply": "2020-12-02T21:10:30.285875Z"
    },
    "papermill": {
     "duration": 336.582825,
     "end_time": "2020-12-02T21:10:30.286134",
     "exception": false,
     "start_time": "2020-12-02T21:04:53.703309",
     "status": "completed"
    },
    "tags": []
   },
   "outputs": [
    {
     "name": "stdout",
     "output_type": "stream",
     "text": [
      "Train r2 score:  0.8960480069861874\n",
      "Test r2 score:  0.867012070011967\n",
      "Train RMSE: 2.9365\n",
      "Test RMSE: 3.5208\n"
     ]
    }
   ],
   "source": [
    "y_train_pred = model.predict(dtrain)\n",
    "y_pred = model.predict(dvalid)\n",
    "print('Train r2 score: ', r2_score(y_train_pred, y_train))\n",
    "print('Test r2 score: ', r2_score(y_test, y_pred))\n",
    "train_rmse = np.sqrt(mean_squared_error(y_train_pred, y_train))\n",
    "test_rmse = np.sqrt(mean_squared_error(y_test, y_pred))\n",
    "print(f'Train RMSE: {train_rmse:.4f}')\n",
    "print(f'Test RMSE: {test_rmse:.4f}')"
   ]
  },
  {
   "cell_type": "code",
   "execution_count": 33,
   "metadata": {
    "execution": {
     "iopub.execute_input": "2020-12-02T21:10:30.394063Z",
     "iopub.status.busy": "2020-12-02T21:10:30.393283Z",
     "iopub.status.idle": "2020-12-02T21:10:31.224112Z",
     "shell.execute_reply": "2020-12-02T21:10:31.223253Z"
    },
    "papermill": {
     "duration": 0.885698,
     "end_time": "2020-12-02T21:10:31.224248",
     "exception": false,
     "start_time": "2020-12-02T21:10:30.338550",
     "status": "completed"
    },
    "tags": []
   },
   "outputs": [],
   "source": [
    "test_preds = model.predict(dtest)"
   ]
  },
  {
   "cell_type": "code",
   "execution_count": 34,
   "metadata": {
    "execution": {
     "iopub.execute_input": "2020-12-02T21:10:31.338539Z",
     "iopub.status.busy": "2020-12-02T21:10:31.337742Z",
     "iopub.status.idle": "2020-12-02T21:10:31.522279Z",
     "shell.execute_reply": "2020-12-02T21:10:31.521448Z"
    },
    "papermill": {
     "duration": 0.24789,
     "end_time": "2020-12-02T21:10:31.522408",
     "exception": false,
     "start_time": "2020-12-02T21:10:31.274518",
     "status": "completed"
    },
    "tags": []
   },
   "outputs": [],
   "source": [
    "test_preds = model.predict(dtest)\n",
    "\n",
    "submission = pd.DataFrame(\n",
    "    {'key': key, 'fare_amount': test_preds},\n",
    "    columns = ['key', 'fare_amount'])\n",
    "submission.to_csv('submission1.csv', index = False)"
   ]
  },
  {
   "cell_type": "code",
   "execution_count": null,
   "metadata": {
    "papermill": {
     "duration": 0.049597,
     "end_time": "2020-12-02T21:10:31.623116",
     "exception": false,
     "start_time": "2020-12-02T21:10:31.573519",
     "status": "completed"
    },
    "tags": []
   },
   "outputs": [],
   "source": []
  }
 ],
 "metadata": {
  "kernelspec": {
   "display_name": "Python 3",
   "language": "python",
   "name": "python3"
  },
  "language_info": {
   "codemirror_mode": {
    "name": "ipython",
    "version": 3
   },
   "file_extension": ".py",
   "mimetype": "text/x-python",
   "name": "python",
   "nbconvert_exporter": "python",
   "pygments_lexer": "ipython3",
   "version": "3.7.6"
  },
  "papermill": {
   "duration": 26951.706501,
   "end_time": "2020-12-02T21:10:31.983802",
   "environment_variables": {},
   "exception": null,
   "input_path": "__notebook__.ipynb",
   "output_path": "__notebook__.ipynb",
   "parameters": {},
   "start_time": "2020-12-02T13:41:20.277301",
   "version": "2.1.0"
  }
 },
 "nbformat": 4,
 "nbformat_minor": 4
}
